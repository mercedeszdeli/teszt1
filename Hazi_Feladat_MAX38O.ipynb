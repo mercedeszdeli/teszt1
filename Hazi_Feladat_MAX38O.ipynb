{
    "metadata": {
        "kernelspec": {
            "name": "SQL",
            "display_name": "SQL",
            "language": "sql"
        },
        "language_info": {
            "name": "sql",
            "version": ""
        }
    },
    "nbformat_minor": 2,
    "nbformat": 4,
    "cells": [
        {
            "cell_type": "code",
            "source": [
                "--Sorok száma a táblában----\r\n",
                "SELECT Count(*) AS 'Sorok száma'\r\n",
                "FROM Termek\r\n",
                "\r\n",
                "--Árak elemzése--\r\n",
                "SELECT MIN(LISTAAR) AS 'Minimum Ár',\r\n",
                "        MAX(LISTAAR) AS 'Maximum Ár',\r\n",
                "        ROUND(AVG(LISTAAR),0) AS 'Átlag Ár',\r\n",
                "        ROUND(STDEV(LISTAAR),0) AS 'Szórás'\r\n",
                "FROM Termek"
            ],
            "metadata": {
                "azdata_cell_guid": "b8c78409-fb8d-4570-a454-fdf05947af31",
                "language": "sql",
                "tags": []
            },
            "outputs": [
                {
                    "output_type": "display_data",
                    "data": {
                        "text/html": "(1 row affected)"
                    },
                    "metadata": {}
                },
                {
                    "output_type": "display_data",
                    "data": {
                        "text/html": "(1 row affected)"
                    },
                    "metadata": {}
                },
                {
                    "output_type": "display_data",
                    "data": {
                        "text/html": "Total execution time: 00:00:00.142"
                    },
                    "metadata": {}
                },
                {
                    "output_type": "execute_result",
                    "execution_count": 1,
                    "data": {
                        "application/vnd.dataresource+json": {
                            "schema": {
                                "fields": [
                                    {
                                        "name": "Sorok száma"
                                    }
                                ]
                            },
                            "data": [
                                {
                                    "Sorok száma": "551"
                                }
                            ]
                        },
                        "text/html": "<table><tr><th>Sorok száma</th></tr><tr><td>551</td></tr></table>"
                    },
                    "metadata": {}
                },
                {
                    "output_type": "execute_result",
                    "execution_count": 1,
                    "data": {
                        "application/vnd.dataresource+json": {
                            "schema": {
                                "fields": [
                                    {
                                        "name": "Minimum Ár"
                                    },
                                    {
                                        "name": "Maximum Ár"
                                    },
                                    {
                                        "name": "Átlag Ár"
                                    },
                                    {
                                        "name": "Szórás"
                                    }
                                ]
                            },
                            "data": [
                                {
                                    "Minimum Ár": "0",
                                    "Maximum Ár": "46000",
                                    "Átlag Ár": "786",
                                    "Szórás": "3602"
                                }
                            ]
                        },
                        "text/html": "<table><tr><th>Minimum Ár</th><th>Maximum Ár</th><th>Átlag Ár</th><th>Szórás</th></tr><tr><td>0</td><td>46000</td><td>786</td><td>3602</td></tr></table>"
                    },
                    "metadata": {}
                }
            ],
            "execution_count": 1
        },
        {
            "cell_type": "markdown",
            "source": [
                "![](data:image/png;base64,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)"
            ],
            "metadata": {
                "language": "sql",
                "azdata_cell_guid": "4b972617-2d00-44ec-8581-40c5ec467a35"
            },
            "attachments": {}
        },
        {
            "cell_type": "code",
            "source": [
                "--5 legnagyobb érték a LISTAAR táblában--\r\n",
                "SELECT TOP 5 LISTAAR AS 'Legnagyobb értékek'\r\n",
                "FROM TERMEK\r\n",
                "ORDER BY LISTAAR DESC\r\n",
                "\r\n",
                "--10 Random érték a LISTAAR táblában--\r\n",
                "SELECT TOP 10 LISTAAR AS 'Árak'\r\n",
                "FROM TERMEK\r\n",
                "GROUP BY LISTAAR\r\n",
                "ORDER BY NEWID()"
            ],
            "metadata": {
                "language": "sql",
                "azdata_cell_guid": "65e5c499-4a82-46ed-836f-a645f9faea16",
                "tags": []
            },
            "outputs": [
                {
                    "output_type": "display_data",
                    "data": {
                        "text/html": "(5 rows affected)"
                    },
                    "metadata": {}
                },
                {
                    "output_type": "display_data",
                    "data": {
                        "text/html": "(10 rows affected)"
                    },
                    "metadata": {}
                },
                {
                    "output_type": "display_data",
                    "data": {
                        "text/html": "Total execution time: 00:00:00.022"
                    },
                    "metadata": {}
                },
                {
                    "output_type": "execute_result",
                    "execution_count": 2,
                    "data": {
                        "application/vnd.dataresource+json": {
                            "schema": {
                                "fields": [
                                    {
                                        "name": "Legnagyobb értékek"
                                    }
                                ]
                            },
                            "data": [
                                {
                                    "Legnagyobb értékek": "46000"
                                },
                                {
                                    "Legnagyobb értékek": "39000"
                                },
                                {
                                    "Legnagyobb értékek": "32000"
                                },
                                {
                                    "Legnagyobb értékek": "24000"
                                },
                                {
                                    "Legnagyobb értékek": "22000"
                                }
                            ]
                        },
                        "text/html": "<table><tr><th>Legnagyobb értékek</th></tr><tr><td>46000</td></tr><tr><td>39000</td></tr><tr><td>32000</td></tr><tr><td>24000</td></tr><tr><td>22000</td></tr></table>"
                    },
                    "metadata": {}
                },
                {
                    "output_type": "execute_result",
                    "execution_count": 2,
                    "data": {
                        "application/vnd.dataresource+json": {
                            "schema": {
                                "fields": [
                                    {
                                        "name": "Árak"
                                    }
                                ]
                            },
                            "data": [
                                {
                                    "Árak": "990"
                                },
                                {
                                    "Árak": "73"
                                },
                                {
                                    "Árak": "30"
                                },
                                {
                                    "Árak": "80"
                                },
                                {
                                    "Árak": "293"
                                },
                                {
                                    "Árak": "24000"
                                },
                                {
                                    "Árak": "16900"
                                },
                                {
                                    "Árak": "165"
                                },
                                {
                                    "Árak": "210"
                                },
                                {
                                    "Árak": "11900"
                                }
                            ]
                        },
                        "text/html": "<table><tr><th>Árak</th></tr><tr><td>990</td></tr><tr><td>73</td></tr><tr><td>30</td></tr><tr><td>80</td></tr><tr><td>293</td></tr><tr><td>24000</td></tr><tr><td>16900</td></tr><tr><td>165</td></tr><tr><td>210</td></tr><tr><td>11900</td></tr></table>"
                    },
                    "metadata": {}
                }
            ],
            "execution_count": 2
        },
        {
            "cell_type": "code",
            "source": [
                "--Rögzitő csoportosítása szerinti eloszlás--\r\n",
                "SELECT FELVITTE AS 'Adatrögzítő neve',COUNT(*) AS 'Felvitt adat mennyisége'\r\n",
                "FROM Termek\r\n",
                "GROUP BY FELVITTE\r\n",
                "ORDER BY count(*) DESC\r\n",
                "\r\n",
                "--FELVITTE tábla egyedi értékei--\r\n",
                "SELECT COUNT(DISTINCT FELVITTE) AS 'Egyedi érték'\r\n",
                "FROM TERMEK\r\n",
                "WHERE FELVITTE IS NOT NULL"
            ],
            "metadata": {
                "azdata_cell_guid": "36163a74-fbd6-4202-893c-4cfb10bb8d1c",
                "language": "sql"
            },
            "outputs": [
                {
                    "output_type": "display_data",
                    "data": {
                        "text/html": "(3 rows affected)"
                    },
                    "metadata": {}
                },
                {
                    "output_type": "display_data",
                    "data": {
                        "text/html": "(1 row affected)"
                    },
                    "metadata": {}
                },
                {
                    "output_type": "display_data",
                    "data": {
                        "text/html": "Total execution time: 00:00:00.024"
                    },
                    "metadata": {}
                },
                {
                    "output_type": "execute_result",
                    "execution_count": 4,
                    "data": {
                        "application/vnd.dataresource+json": {
                            "schema": {
                                "fields": [
                                    {
                                        "name": "Adatrögzítő neve"
                                    },
                                    {
                                        "name": "Felvitt adat mennyisége"
                                    }
                                ]
                            },
                            "data": [
                                {
                                    "Adatrögzítő neve": "Béla",
                                    "Felvitt adat mennyisége": "189"
                                },
                                {
                                    "Adatrögzítő neve": "Sára",
                                    "Felvitt adat mennyisége": "188"
                                },
                                {
                                    "Adatrögzítő neve": "Mari",
                                    "Felvitt adat mennyisége": "174"
                                }
                            ]
                        },
                        "text/html": "<table><tr><th>Adatrögzítő neve</th><th>Felvitt adat mennyisége</th></tr><tr><td>Béla</td><td>189</td></tr><tr><td>Sára</td><td>188</td></tr><tr><td>Mari</td><td>174</td></tr></table>"
                    },
                    "metadata": {}
                },
                {
                    "output_type": "execute_result",
                    "execution_count": 4,
                    "data": {
                        "application/vnd.dataresource+json": {
                            "schema": {
                                "fields": [
                                    {
                                        "name": "Egyedi érték"
                                    }
                                ]
                            },
                            "data": [
                                {
                                    "Egyedi érték": "3"
                                }
                            ]
                        },
                        "text/html": "<table><tr><th>Egyedi érték</th></tr><tr><td>3</td></tr></table>"
                    },
                    "metadata": {}
                }
            ],
            "execution_count": 4
        },
        {
            "cell_type": "markdown",
            "source": [
                "![](data:image/png;base64,iVBORw0KGgoAAAANSUhEUgAABQAAAAHmCAYAAAAstiN7AAAgAElEQVR4nOzdX4yc5Z0v+N/zVv9z0xA2x4ZQklPV1atKzFwwig6bIRPFzuFmyWaQVrO7sJMLJiY4WinRUaRocI5mrcjLrswqN8gaKccRJowU1nNxpCGTHK+yyoC1mwCZXJxZRIwqprt6LLUO4BPI4mN3d3W/z17QlWk6Nm6DXeV++/ORLKjn/fP7vVfV/e3neZ8IAAAAAAAAAAAAAAAAAAAAAAAAAAAAAAAAAAAAAADg0tKwG+D6abfbO3u93o8i4tNrQy+Njo5+sdPpnOuf02w296aUnu9/zjnv63a7p/qfG43GnqIoTkZEIyIipfTw7Ozs8QE9AgAAAAAfUjHsBrg++uFfSunY3NxcmpubSymlY71e70ftdntnxLvhXkrp6Zzzvrm5uZRz3pdSerrRaOzp36MoiqdSSofn5uZSWZZ35pwPNZvNvcN9OgAAAAA2SwBYUcvLy38QETEyMvLD/lj///vHarXaQymlE/0Zf91u91RK6UStVnsoImJlZeX+nPNri4uLJyIi5ufnT6eUDkfEgXq9PjngRwIAAADgAxgZdgNcH2uh3h9d7ni9Xp8sy3J3URQ/XT9eluXJ+OeAr10UxdmFhYUL/eOrq6svpJT+dGpqajIiLgQAAAAANzQzALeRtZl/H8s5vzE1NTWZUpopy/K1jeellGZ27NjxL8qy3B0RnUsc37m0tLRrED0DAAAA8OEIALeJ/vv+UkqH5+fnTw+7HwAAAAAGwxLgbaC/k29K6cT12sG39a0nvpBy8eMrnXfh1//vf7ejtecbqTb6x9ejDwAAAADeSwBYcRvCv4P98fPnz18YGxt7rSiKmYg4tf6anPNrFy9e/E8TExNnI6K98Z4553Pj4+Nvrh/bMX7Ti0uLFz9/pX7G7mg8F0vl/5Qm4y8/+FMBAAAAsBk54jkBYIWtC/8Ob5z5t7CwcKHVav1ewFcUxX0RcXbteKcsy3vr9fpkfyOQWq12T1mWb58/f/49G4C88u2v/CYinr9iT197LCL3zpw58s0rngsAAADAhzNz8Kh3AFZVu93eWRTFU5cK//pWV1efzjk/2Gw290ZENJvNvTnnB1dXV5+OiBgZGflhSmlmYmLiwYh3A8Wc86GIOLZ+Z2AAAAAAblxmAFbUysrK/RHx6Zzzp6enp59cfyyl9PDs7Ozx+fn5081m86GU0vPT09MREZFz3tffJKTT6ZxrNBpfLoriZP8eKaWH5+bmTm2sBwAAAMCNSQBYUWuz/q644Ue32z0VEelyx9fCwOY1bA0AAACAAbIEGAAAAAAqTAAIAAAAABUmAAQAAACAChMAAgAAAECFCQABAAAAoMIEgAAAAABQYQJAAAAAAKgwASAAAAAAVJgAEAAAAAAqTAAIAAAAABUmAAQAAACAChMAAgAAAECFCQABAAAAoMIEgAAAAABQYQJAAAAAAKgwASAAAAAAVJgAEAAAAAAqTAAIAAAAABU2MuwGgO0jH/hfZobdA7C1pGP/82vD7gEAALY6ASAwOCvpm2HmMbBZKf6fiBAAAgDAhyQABABY57/893l82D0AW8+ZL6SlYfcAAJcjAAQAWOe/eOM/fTaK/D8Muw9g6yiWykNnIl4fdh8AcDmW4gEAAABAhQkAAQAAAKDCBIAAAAAAUGECQAAAAACoMAEgAAAAAFSYABAAAAAAKkwACAAAAAAVJgAEAAAAgAoTAAIAAABAhQkAAQAAAKDCRobdAIPRarX2R0R7dnb24PrxZrO5N6X0fP9zznlft9s91f/caDT2FEVxMiIaEREppYdnZ2ePD6pvAAAAAD4cMwC3gVartT/n/OTG8UajsSel9HTOed/c3FzKOe9LKT3daDT2RES02+2dRVE8lVI6PDc3l8qyvDPnfKjZbO4d/FMAAAAA8EEIACusXq9PNpvNH+ScD0XELzYer9Vq9+Scf7a8vPwPERHdbvdUSulErVZ7KCJiZWXl/pzza4uLiyciIubn50+nlA5HxIF6vT45yGcBAAAA4IMRAFbY2NjY3RERS0tLd6aUnvsAt2gXRXF2YWHhQn9gdXX1hYi4dWpqSgAIAAAAsAUIACus2+2e6na7X1of4K23urr6Qkrpj/tBYaPR2JNzfrAsy5P1en2yLMvdEdHZeF1KaefS0tKu69w+AAAAANeAAHAbm5+fP12W5X0ppaenp6dzURQny7K8b/0mIAAAAABsbXYB3sbWNgc5MDo6+i87nc65dru9s9fr/ajVaj2/uLh4+Kru9a0nvpBy8eMrnbdy/reRd4x/Z+bg0bs+eOdsVc+8c9FfHYBN++Vo7cDMwaN/Pei67/zT38fYRz4+6LLAFnbxjZcPzBw8Ouw2AOCyBIDb1FrYdyDn/Gin0zkXEdHpdM41m81HI+Lxqamp76ysrJyNiPbGa3PO58bHx99cP7Zj/KYXlxYvfn4TpZ9Li+V302S8ek0ehC3lM8sr30hmHgObtKvMLz87MfaTQdcdv3n3p0Ymb9vMdxpARET0xj56vHdx4a1h9wEAl5IjnhMA8n46ZVneW6/XJ/vvEazVaveUZfn2+fPn3/NewVe+/ZXfRMTzV7ph42uPReTemTNHvnnFc6me5v7HHggBILBJjbI8febI1wf+fXH398/VosifGHRdYOu6pf7Zn7/0yO2vD7sPALiUmYNH/SK+XXU6nXMppWMppcfb7fbOiHdnBaaUHk8pPd/pdM6NjIz8MKU0MzEx8WDE7zYJORQRxy63sQgAAAAANxYB4DY2Ozt7PKV0rNfrvTk9PZ17vd6bKaVjs7OzByPeDQnLsvxyzvnQ2iYhv0opHbZJCAAAAMDWYQnwNtEP9S4xfjwijl/uuvn5+dMR0bxefQEAAABwfZkBCAAAAAAVJgAEAAAAgAoTAAIAAABAhQkAAQAAAKDCBIAAAAAAUGECQAAAAACoMAEgAAAAAFTYyLAbAAAA4Orlf/wf/+th9wBsLemu/+P/HHYPDIcAEAAAYCsqy89HxK3DbgPYMv5x2A0wPJYAAwAAAECFCQABAAAAoMIEgAAAAABQYQJAAAAAAKgwASAAAAAAVJgAEAAAAAAqTAAIAAAAABUmAAQAAACAChMAAgAAAECFCQABAAAAoMIEgAAAAABQYQJAAAAAAKgwASAAAAAAVJgAEAAAAAAqTAAIAAAAABUmAAQAAACAChMAAgAAAECFCQABAAAAoMIEgAAAAABQYQJAAAAAAKgwASAAAAAAVJgAEAAAAAAqbGTYDTAYrVZrf0S0Z2dnD64fbzQae4qiOBkRjYiIlNLDs7Ozxzd7HAAAAIAbmxmA20Cr1dqfc35y43iz2dxbFMWvcs4Pzc3NpbIs78w5H2o2m3sjItrt9s6iKJ5KKR2+1HEAAAAAbnwCwAqr1+uTzWbzBznnQxHxi43HIuJASunxbrd7KiJifn7+dErpRFEU90VErKys3J9zfm1xcfHEuuOHI+LA2vUAAAAA3OAsAa6wsbGxuyMilpaW7pyYmDi0/tjU1NRkr9ebKcvy2PrxDUuE20VRnF1YWLjQH1hdXX0hpfSnU1NTkxFxIQAAAAC4oQkAK2xtZt+piIhWq/WeY0tLS7uKokgREdPT0y9GxKcj/vkdf/V6fbIsy91FUfx0431TSjuXlpZ2RcS56/0MAAAAAHw4lgBvb7enlB4fHR394vp3/K1tGAIAAABABZgBuL29XpbllzudzrmId9/x12q1DuecD+zYseP/Wl1d3fSNWt964gspFz++0nkr538becf4d2YOHr3rQ/TNFvXMOxf91QHYtF+O1g7MHDz614Ou+84//X2MfeTjgy4LbGEX33j5wMzBowOve+zVbtwyujLwusDWdPrtm2Lm4NG/GnYfDIcAkPcoy/K1lFLUarWLOeezEdHeeE7O+dz4+Pib68d2jN/04tLixc9vosRzabH8bpqMV69Vz2wdn1le+UYy8xjYpF1lfvnZibGfDLru+M27PzUyedtmvtMAIiKiN/bR472LC28Nuu7nPvbWV3fUVqcGXRfYmho3L5555swdzw67DwYvRzwnANymer3e/NjY2JmU0m0Rcbo/XhTFTFmWr50/f/7CxMREpyzLe+v1+mR/I5BarXZPWZZvnz9//j0bgLzy7a/8JiKev1Ldxtcei8i9M2eOfPOK51I9zf2PPRACQGCTGmV5+syRrw/8++Lu75+rRZE/Mei6wNZ1S/2zP3/pkdtfH3TdTz7wwH0Rceug6wJbU+PmxV8P42crhm/m4FG/iG9Xa4HesZTS4+12e2dERKPR2JNzPlQUxU8XFhYujIyM/DClNDMxMfHg+uMRcWz9zsAAAAAA3LgEgNtYt9s9lXN+tNfrvTk9PZ2LovhVSunw7Ozs8YiITqdzrizLL+ecD60/vra7MAAAAABbgCXA28Ts7OzBS42vhXnpctfNz8+fjojm9eoLAAAAgOvLDEAAAAAAqDABIAAAAABUmAAQAAAAACpMAAgAAAAAFSYABAAAAIAKEwACAAAAQIUJAAEAAACgwgSAAAAAAFBhAkAAAAAAqDABIAAAAABUmAAQAAAAACpMAAgAAAAAFSYABAAAAIAKEwACAAAAQIUJAAEAAACgwgSAAAAAAFBhAkAAAAAAqDABIAAAAABUmAAQAAAAACpMAAgAAAAAFSYABAAAAIAKEwACAAAAQIUJAAEAAACgwgSAAAAAAFBhAkAAAAAAqDABIAAAAABUmAAQAAAAACpMAAgAAAAAFSYABAAAAIAKEwACAAAAQIUJAAEAAACgwgSAAAAAAFBhI8NugMFotVr7I6I9Ozt78H3OORIRsf6cRqOxpyiKkxHRiIhIKT08Ozt7/Hr3CwAAAMC1YQbgNtBqtfbnnJ98v3OazebenPOj68fa7fbOoiieSikdnpubS2VZ3plzPtRsNvde344BAAAAuFYEgBVWr9cnm83mD3LOhyLiF5c7r91u74yIv9h4zsrKyv0559cWFxdPRETMz8+fTikdjogD9Xp98nr2DgAAAMC1IQCssLGxsbsjIpaWlu5MKT13qXPq9frk8vLyE0VR/LtLnNMuiuLswsLChf7A6urqCxFx69TUlAAQAAAAYAsQAFZYt9s91e12v7Q+wNtoYmLiwYiI/iy/vnq9PlmW5e6I6Gy8JqW0c2lpadc1bxgAAACAa04AuI01Go09Oeev5pwfe7+QEAAAAICtyy7A21S9Xp9MKf1lSunfzs/Pn/6w92t964kvpFz8+ErnrZz/beQd49+ZOXj0rg9bk63nmXcu+qsDsGm/HK0dmDl49K8HXfedf/r7GPvIxwddFtjCLr7x8oGZg0cHXvfYq924ZXRl4HWBren02zfFzMGjfzXsPhgOAeA2NTo62kgp/XHO+c+mp6efjIjIOUdExPT09L7R0dEvrqysnI2I9sZrc87nxsfH31w/tmP8pheXFi9+fhOln0uL5XfTZLx6DR6DLeYzyyvfSGYeA5u0q8wvPzsx9pNB1x2/efenRiZv28x3GkBERPTGPnq8d3HhrUHX/dzH3vrqjtrq1KDrAltT4+bFM8+cuePZYffB4OWI5wSA29TarL/m+rFWq3UkImJ2dvbg2udOWZb31uv1yf4S4Vqtdk9Zlm+fP3/+PUuGX/n2V34TEc9fqW7ja49F5N6ZM0e+ecVzqZ7m/sceCAEgsEmNsjx95sjXB/59cff3z9WiyJ8YdF1g67ql/tmfv/TI7a8Puu4nH3jgvoi4ddB1ga2pcfPir4fxsxXDN3PwqF/EubyRkZEfppRm+huFrL0z8FBEHPPOQAAAAICtQQDIZXU6nXNlWX4553xoeno6F0Xxq5TS4W63e2rYvQEAAACwOZYAbxP9Zb1Xe86llgoDAAAAsHWYAQgAAAAAFSYABAAAAIAKEwACAAAAQIUJAAEAAACgwgSAAAAAAFBhAkAAAAAAqDABIAAAAABUmAAQAAAAACpMAAgAAAAAFSYABAAAAIAKEwACAAAAQIUJAAEAAACgwgSAAAAAAFBhAkAAAAAAqDABIAAAAABUmAAQAAAAACpMAAgAAAAAFSYABAAAAIAKEwACAAAAQIUJAAEAAACgwgSAAAAAAFBhAkAAAAAAqDABIAAAAABUmAAQAAAAACpMAAgAAAAAFSYABAAAAIAKEwACAAAAQIUJAAEAAACgwgSAAAAAAFBhAkAAAAAAqDABIAAAAABUmAAQAAAAACpsZNgNMBitVmt/RLRnZ2cPbhg/knN+tP8557yv2+2e6n9uNBp7iqI4GRGNiIiU0sOzs7PHB9U3AAAAAB+OGYDbQKvV2p9zfvIS40fKsty9tLR009zcXCrL8s6U0tPNZnNvRES73d5ZFMVTKaXD/eM550P94wAAAADc+ASAFVav1yebzeYPcs6HIuIX64+12+2dOed9EXFsYWHhQkTE/Pz86ZTSiaIo7ouIWFlZuT/n/Nri4uKJdccPR8SBer0+OeDHAQAAAOADsAS4wsbGxu6OiFhaWrpzYmLi0PpjnU7nXET80RVu0S6K4mw/IIyIWF1dfSGl9KdTU1OTEXHhfa4FAAAA4AZgBmCFdbvdU91u90vrA7z3s25WYKder0+WZbk7Ijobz0sp7VxaWtp1rfsFAAAA4NozA5CIeHe58PLy8hMR8drS0tKJYfcDAAAAwLUhACTq9frk2NjY91JKM6Ojo1/sdrsXrvYdf61vPfGFlIsfX+m8lfO/jbxj/DszB4/e9cE7Zqt65p2Lph0Dm/bL0dqBmYNH/3rQdd/5p7+PsY98fNBlgS3s4hsvH5g5eHTgdY+92o1bRlcGXhfYmk6/fVPMHDz6V8Pug+EQAG5zG8O/tXcDxsLCwoVWq3U2Itobr8k5nxsfH39z/diO8ZteXFq8+PlNlHwuLZbfTZPx6rV5AraSzyyvfCN59QCwSbvK/PKzE2M/GXTd8Zt3f2pk8rbNfKcBREREb+yjx3sXF94adN3Pfeytr+6orU4Nui6wNTVuXjzzzJk7nh12HwxejnhOALiN9cO/iIilpaV/NTc3t/FdgZ2yLO+t1+uT/fcI1mq1e8qyfPv8+fPvOfeVb3/lNxHx/JVqNr72WETunTlz5JtXPJfqae5/7IEQAAKb1CjL02eOfH3g3xd3f/9cLYr8iUHXBbauW+qf/flLj9z++qDrfvKBB+6LiFsHXRfYmho3L/56GD9bMXwzB4/6RXw76+8MvLy8/MilNgoZGRn5YUppZmJi4sGIiEajsSfnfCgijm12YxEAAAAAhssMwG1qLcx7MKXUGB8f/7Pp6enfHcs5P7O8vPxIp9M512g0vlwUxcnp6eknIyJSSg/Pzc2dGlrjAAAAAFwVAeA2MTs7e3D95/n5+dMR0bzSdZs9DwAAAIAbkyXAAAAAAFBhAkAAAAAAqDABIAAAAABUmAAQAAAAACpMAAgAAAAAFSYABAAAAIAKEwACAAAAQIUJAAEAAACgwgSAAAAAAFBhAkAAAAAAqDABIAAAAABUmAAQAAAAACpMAAgAAAAAFSYABAAAAIAKG7naC/Ij/1s7Vlbb16OZgRqpddL3/k1n2G0AAAAAwPV01QFgrKy2I6U/uQ69DNbK6t9FxGUDwHq9Pjk2Nva9lNKfbTyWc97X7XZPbRxvNpt7U0rPp5Qenp2dPd4fb7VaRyIiZmdnD16j7gEAAABgUywBvoKU0sNzc3Op/y/nvC+l9Hyz2dy7/rx6vT4ZEQc2hn8AAAAAMExXPwNwm1teXv6HsbGxZ4qimImI380CXFhYuBARXxpeZwAAAADw+wSA10ir1TqSc3507eN8WZb3zc/Pn77Uuf2lwuvHzBwEAAAA4HqwBPgqjY2N3R0Rsbi4eCLi3aW/zWbzBxER65YJP1QUxclGo7Fn4/WNRmNPSul/L8vyzv75KaWHc86HLnU+AAAAAHwYZgBeQc75yenp6Sc3DL80NTU1GREXRkdHGxFx68jIyL/uH+x2u6dardaJWq32UES8Z+OPtVmBn14/trq6+kJRFK9fp0cAAAAAYBsTAF7BxqW57XZ7Z6/X+9Hy8vIT9Xr9kZTSbSmlL/R6vTenp6d/d13OOVJKj1/uvv37xD+HgfPX7SEAAAAA2LYEgFep0+mcazabj6aUHp+amppcWVmZyTm/NDo6+sVOp3PuStc3Go09RVGc7PV6jbVw8Y/Wxr4/iP4BAAAA2F4EgB9SWZavpZQ+trS0tCsirhgA1mq1e8qy/Nny8vKdazsHR0rptoi4/Xr3CgAAAMD2YxOQq1Sv1ycj4kBK6Vin0zm3vLz8Dznnn6WU/nLtWLTb7Z3T09Mvtlqt/Ze6R0ppZu0dgv1NQZ4e4CMAAAAAsI0IAK9gbROQ3P83Pj7+n4ui+Gn/vYALCwsXlpeXH4mIGB8f/8/T09O51+u9mVI6tv7dgX2zs7PHU0rPr70zMBdFcTLn/FBE/MdarXbPgB8PAAAAgIqzBPgy1pbnfmnt34c6d3Z29uAlPh/ccNoffbBOAQAAAODyzAAEAAAAgAoTAAIAAABAhV39EuCRWidWVv/uOvQyWCO1zrBbAAAAAIDr7aoDwPS9f9OJCOEZAAAAAGwBNgHZJlqt1v6IaG/ckKTZbO5NKT3f/5xz3tftdk/1PzcajT1FUZyMiEZERErp4UvtbgwAAADAjck7ALeBVqu1P+f85MbxRqOxJ6X0dM5539zcXMo570spPd1oNPZERLTb7Z1FUTyVUjo8NzeXyrK8M+d8qNls7h38UwAAAADwQQgAK6xer082m80f5JwPRcQvNh6v1WoPpZRO9Gf8dbvdUymlE7Va7aGIiJWVlftzzq8tLi6eiIiYn58/nVI6HBEH6vX65CCfBQAAAIAPRgBYYWNjY3dHRCwtLd2ZUnpu/bF6vT5ZluXu2PA+x7IsT5ZluXst4GsXRXF2YWHhQv/46urqCxFx69TUlAAQAAAAYAsQAFZYt9s91e12v7Q+wOubmpqaTCnNlGX52sZjKaWZHTt2/ItLBYRrx3cuLS3tuk5tAwAAAHANCQABAAAAoMLsAsw10frWE19Iufjxlc5bOf/byDvGvzNz8Ohdg+iLG8sz71z0Vwdg0345Wjswc/DoXw+67jv/9Pcx9pGPD7ossIVdfOPlAzMHjw687rFXu3HL6MrA6wJb0+m3b4qZg0f/ath9MBwCwG3q/PnzF8bGxl4rimImIk6tP5Zzfu3ixYv/aWJi4mxEtDdem3M+Nz4+/ub6sR3jN724tHjx85so/VxaLL+bJuPVD/UAbEmfWV75RjLzGNikXWV++dmJsZ8Muu74zbs/NTJ522a+0wAiIqI39tHjvYsLbw267uc+9tZXd9RWpwZdF9iaGjcvnnnmzB3PDrsPBi9HPCcA3KYWFhYutFqt3wv4iqK4LyLOrh3vlGV5b71en+y/R7BWq91TluXb58+ff897BV/59ld+ExHPX6lu42uPReTemTNHvnnFc6me5v7HHggBILBJjbI8febI1wf+fXH398/VosifGHRdYOu6pf7Zn7/0yO2vD7ruJx944L6IuHXQdYGtqXHz4q+H8bMVwzdz8KhfxLez1dXVp3PODzabzb0REc1mc2/O+cHV1dWnIyJGRkZ+mFKamZiYeDAiotFo7Mk5H4qIY5faWAQAAACAG48AcBubn58/nXN+KKX0/PT0dE4pPZ9zfmh+fv50RESn0zlXluWXc86Hpqenc1EUv0opHe52u6eudG8AAAAAbgxXvQT4v3r6zS/mFH9yPZoZpJTj737x0K4fDbuPQZmdnT14qfG1MC9d7rq1MLB5vfoCAAAA4PryDsAraDabe1NK71kjn3Ped6lZcP1zU0oPz87OHh9clwAAAABwaZYAv49Wq7U/pfT46Ojorrm5uTQ3N5fKsrwzpfR0q9Xav/7cer0+GREHhH8AAAAA3EjMALyMer0+WZblvUVRHOt0Ouf64/Pz86dbrdbhtd1xT/Q3w1j775eG1jAAAAAAXIIA8MraGwfWZvj9bpZfo9HYUxTFyYho9MdSSo/337vXarWO5Jz/v4i4PyI+nXPet7y8/A9jY2PfSyn92bpbvzQ6OvrF9YEjAAAAAHwYlgBfxtqMvmM550enp6fz9PR0t9Fo7Nl4Xrvd3lkUxVM554f6y4Rzzvtyzo82m8296049UJbll+fm5lK32z01MTFxqCiKs/1rRkdHd0VErKysfHNQzwgAAABA9ZkB+D663e6per1+U3+mXlEUv5qeno5YN1NvbbbeH62/bmxs7JVer/fS+rGc8896vd58//PGXXk7nc65Vqv1ns1GAAAAAODDEgBewbp3+30p4p93+l1eXn6iXq8/0n8HYL1en+wHhb1e7/fuUxTF2f6567Varf055ycjInLOkVJ6/Lo+EAAAAADbiiXAV6nb7Z7KOe9LKf3x6Ohoo91u75yenn5xfHz8P/eX9K4t533p/e7TarWOTE9P55zzgf4uw8I/AAAAAK41MwAvY22m39NlWd43Pz9/ev2xnPMbKaXXIyKWl5f/IKUUo6Oju/qbdywtLe0qiuJjl7t3u93e2ev19uWc93W73VMRv9t1eHdRFGev53MBAAAAsL2YAXgZy8vL/5Bz/llRFE+12+2d64/VarWHUkrPrQsGP7a0tLQr4p83BYl1OwJfTlEUM/3/n5iYOLRhR2AAAAAA+NAEgJexsLBwodvtfimldKzX6725thNwnp6ezhHR6W/i0e12T6WUDq9tEJJ7vd6bKaXDOedniqK471L37nQ658qy/HLO+dC6e0ZK6eGc876NgSMAAAAAfFCWAF/B7Ozs8Yg4/gHO+ffrjh/ccCzWZg82L3G7960FAAAAAFfDDEAAAAAAqDABIAAAAABU2FUvAf7FQ7t+FBE/ug69AAAAAADXmBmAAAAAAFBhAkAAAAAAqDABIAAAAABUmAAQAAAAACpMAAgAAAAAFSYABAAAAIAKEwACAAAAQIUJAAEAAACgwgSAAAAAABhaIqEAAB2ESURBVFBhAkAAAAAAqDABIAAAAABU2MjVXpD/wwPtiGhfh14GrZP+8G86w24CAAAAAK6nqw4AI6IdOf7kmncyaCn+LiIuGwDW6/XJsbGx7xVFcXZ2dvbgpc5pNpt7U0rP55z3dbvdUx+kjUajsacoiu+XZfnn8/Pzpz/IPQAAAADgcj5IALit5JzvarVa+2dnZ4+vH2+32zuXl5cPRMT8h7n/Wuj36Q9zDwAAAAC4HO8AvLL/OyLa9Xp9cv3g8vLyH6SUXomI/zictgAAAADgyswAvIKU0n+MiFvGxsbujohTEe8uD46IB3LOf5NSun/9+a1W60jO+dF1Q/NlWd43Pz9/utFo7EkpfSel9LOI+F9zzs/knL9TFMV3LQEGAAAA4HowA3ATyrI8WRTFff3Po6OjjYiIoijm1p/XarX2l2W5e2lp6aa5ubm0tLR0U875Zymlv+zPIEwp/UFK6Za5ubnU7Xa/FBGLA30YAAAAALYVMwA3YWxs7JXl5eUD7XZ7Z6fTOVer1e6JiF+OjIxc6PV6vztv7T2Bv3tX4MLCwoVWq/XTsizvXX+/sixPDqz5K+hvZNL/vHFDk7VNSk5GRCMiIqX08Mb3IQIAAABw4zIDcBM6nc65oijOLi8v/0G9Xp8sy/Jfrq6uvnC585vN5t7p6ek8PT2dc85Pbjj8es75jevc8qasLUl+Oue8b25uLuWc96WUnm40Gnsi3t3opCiKp1JKh+fm5lJZlnfmnA81m829w+4dAAAAgM0RAG5Sfxlwf/lvr9f7vd1/W63W/unp6ZxSerosyzvn5uZSSunhwXe7ObVa7Z6c88+Wl5f/ISKi2+2eSimdqNVqD0VErKys3J9zfm1xcfFExLs7FqeUDkfEgY2bogAAAABwYxIAbtLY2NgrZVnuLorivy2K4pcLCwsX1h9fmxl4b0rp4bm5uea6DT3aQ2j3WmkXRXF2/bOuzXy8dWpqSgAIAAAAsAUIADfp/Pnz/RDswPst/411gV+r1dq/YUfgG8rq6uoLKaU/XtvhOBqNxp6c84NlWZ5cCzR3R0Rn43UppZ1LS0u7Bt4wAAAAAFdNALhJCwsLF4qi+GnO+WeXWv67sLBwYWxs7F/nnPf13/+3NiPwv0kp/XF/6fCNZH5+/nRZlvellJ6enp7ORVGcLMvyvvWbgAAAAACwtaWrvSD/hwe+GDn+5Ho0M1Ap/i794d/8aNhtDNPaDMUDo6OjX+x0Oufa7fbOXq/3o5TS84uLi4fHxsa+VxTFT9fv+ru2K/D3y7L883XLnKP1rSe+kHLx4yvVXDn/2ygmJ/+xKEbvul7PxY3r8DsX/dUB2LRfjtbibyfGBl53dPL2GPvIxwdeF9i6Lr7xcpSriwOv+xd3deOW0ZWB1wW2ptNv3xQ/OHPHsNtgSEaG3QDDsRb2Hcg5P9rpdM5FvLvbcbPZfDQiHp+amvrOysrK2bjEOwxzzufGx8ffXD+2Y/ymF5cWL35+E6WfS4vld9NkvHpNHoQt5TPLK99IZh4Dm7SrzC8/OzH2k0HXHb9596dGJm/bzHcaQERE9MY+erx3ceGtQdf93Mfe+uqO2urUoOsCW1Pj5sUzz5y549lh98Hg5YjnBIC8n05ZlvfW6/XJ/kYgtVrtnrIs3173TsSIiHjl21/5TUQ8f6UbNr72WETunTlz5JtXPJfqae5/7IEQAAKb1CjL02eOfH3g3xd3f/9cLYr8iUHXBbauW+qf/flLj9z++qDrfvKBB+6LiFsHXRfYmho3L/56GD9bMXwzB49+oBmAnUjxd9e8m8H7vc0ttpNOp3Ou1Wodi4jH2+32+iXAj6eUnl/7/MNer3dgYmLiwYg4vrZJyKGIeGjjLsgAAAAA3JiuOgBMf/g3ndjm4VlVzM7OHm+1WtHr9d6cnp6OXq8XKaWH++/863Q65xqNxpeLojg5PT39ZERESunhubk5m4QAAAAAbBGWAG9za2Hf8csdX9voozm4jgAAAAC4lryLCwAAAAAqTAAIAAAAABUmAAQAAACAChMAAgAAAECFCQABAAAAoMIEgAAAAABQYQJAAAAAAKgwASAAAAAAVJgAEAAAAAAqTAAIAAAAABUmAAQAAACAChMAAgAAAECFCQABAAAAoMIEgAAAAABQYQJAAAAAAKgwASAAAAAAVJgAEAAAAAAqTAAIAAAAABUmAAQAAACAChMAAgAAAECFCQABAAAAoMIEgAAAAABQYQJAAAAAAKgwASAAAAAAVJgAEAAAAAAqTAAIAAAAABUmAAQAAACAChMAAgAAAECFCQABAAAAoMIEgAAAAABQYQJAAAAAAKgwASAAAAAAVNjIsBtguBqNxp6iKE5GRCMiIqX08Ozs7PHNHgcAAADgxmYG4DbWbDb3FkXxq5zzQ3Nzc6ksyztzzoeazebeiIh2u72zKIqnUkqHL3UcAAAAgBufAHCbqtfrkxFxIKX0eLfbPRURMT8/fzqldKIoivsiIlZWVu7POb+2uLh4Yt3xwxFxYO16AAAAAG5wlgBvU1NTU5O9Xm+mLMtj68dnZ2cPrvvYLori7MLCwoX+wOrq6gsppT+dmpqajIgLAQAAAMANzQzAbWppaWlXRKSIiOnp6Renp6fz9PR0brVa+yPenSFYluXuiOhsvDaltHPtegAAAABucALA7e32lNLjo6OjX1z/jr9+CAgAAADA1peG3QDDsba77/fLsvzz+fn50/3xVqu1P+d8oCiK/351dfVIURQ/vcSuwL9/3bee+ELKxY+vVHfl/G+jmJz8x6IYvevaPxU3usPvXPRXB2DTfjlai7+dGBt43dHJ22PsIx8feF1g67r4xstRri4OvO5f3NWNW0ZXBl4X2JpOv31T/ODMHcNugyHxDkDeoyzL11JKUavVLuacz0ZEe+M5Oedz4+Pjb64f2zF+04tLixc/v4kSz6XF8rtpMl69Vj2zdXxmeeUbycxjYJN2lfnlZyfGfjLouuM37/7UyORtm/lOA4iIiN7YR4/3Li68Nei6n/vYW1/dUVudGnRdYGtq3Lx45pkzdzw77D4YvBzxnABwm+r1evNjY2NnUkq3RcTvZvIVRTFTluVr58+fvzAxMdEpy/Leer0+2d8IpFar3VOW5dvnz59/zwYgr3z7K7+JiOevVLfxtccicu/MmSPfvOK5VE9z/2MPhAAQ2KRGWZ4+c+TrA/++uPv752pR5E8Mui6wdd1S/+zPX3rk9tcHXfeTDzxwX0TcOui6wNbUuHnx18P42Yrhmzl41C/i29VaoHcspfR4u93eGfHu8t6c86GiKH66sLBwYWRk5IcppZmJiYkH1x+PiGPrdwYGAAAA4MYlANzGut3uqZzzo71e783p6elcFMWvUkqH++/863Q658qy/HLO+dD6491u99SwewcAAABgcywB3ubWwrzLbgazttFHc3AdAQAAAHAtmQEIAAAAABUmAAQAAACAChMAAgAAAECFCQABAAAAoMIEgAAAAABQYQJAAAAAAKgwASAAAAAAVJgAEAAAAAAqTAAIAAAAABUmAAQAAACAChMAAgAAAECFCQABAAAAoMIEgAAAAABQYQJAAAAAAKgwASAAAAAAVJgAEAAAAAAqTAAIAAAAABUmAAQAAACAChMAAgAAAECFCQABAAAAoMIEgAAAAABQYQJAAAAAAKgwASAAAAAAVJgAEAAAAAAqTAAIAAAAABUmAAQAAACAChMAAgAAAECFCQABAAAAoMIEgAAAAABQYQJAAAAAAKgwASAAAAAAVNjIsBvgxtFqtY5ERMzOzh7sjzUajT1FUZyMiEZERErp4dnZ2eNDahEAAACAq2QGIBER0Ww29+acH10/1m63dxZF8VRK6fDc3Fwqy/LOnPOhZrO5d1h9AgAAAHB1BIBEu93eGRF/ERG/WD++srJyf875tcXFxRMREfPz86dTSocj4kC9Xp8cQqsAAAAAXCUB4DZXr9cnl5eXnyiK4t+llJ7bcLhdFMXZhYWFC/2B1dXVFyLi1qmpKQEgAAAAwBYgANzmJiYmHoyI6M/y66vX65NlWe6OiM7Ga1JKO5eWlnYNqEUAAAAAPgQB4DbWaDT25Jy/mnN+bP0sPwAAAACqQwC4TdXr9cmU0l+mlP7t/Pz86WH3AwAAAMD1kYbdAMPRaDT2FEVxMiIalzj80ujo6BdXVla+GRExOzt7cP11KaXvjI2NPdTpdM71x1vfeuILKRc/vlLdlfO/jWJy8h+LYvSua/EcbC2H37norw7Apv1ytBZ/OzE28Lqjk7fH2Ec+PvC6wNZ18Y2Xo1xdHHjdv7irG7eMrgy8LrA1nX77pvjBmTuG3QZDMjLsBhiOtVl/zfVjrVbrSMQ/B36tVqtTluW99Xp9sr9EuFar3VOW5dvnz59/z5LhHeM3vbi0ePHzmyj9XFosv5sm49Vr8yRsJZ9ZXvlGMvMY2KRdZX752Ymxnwy67vjNuz81MnnbZr7TACIiojf20eO9iwtvDbru5z721ld31FanBl0X2JoaNy+eeebMHc8Ouw8GL0c8JwDkskZGRn7Y6/UOrG0UcnztnYGHIuKhje8MfOXbX/lNRDx/pXs2vvZYRO6dOXPkm1c8l+pp7n/sgRAAApvUKMvTZ458feDfF3d//1wtivyJQdcFtq5b6p/9+UuP3P76oOt+8oEH7ouIWwddF9iaGjcv/noYP1sxfDMHj/pFnMvrdDrnyrL8cs750PT0dC6K4lcppcPdbvfUsHsDAAAAYHPMAOR31r/rr+9SS4UBAAAA2DrMAAQAAACAChMAAgAAAECFCQABAAAAoMIEgAAAAABQYQJAAAAAAKgwASAAAAAAVJgAEAAAAAAqTAAIAAAAABUmAAQAAACAChMAAgAAAECFCQABAAAAoMIEgAAAAABQYQJAAAAAAKgwASAAAAAAVJgAEAAAAAAqTAAIAAAAABUmAAQAAACAChMAAgAAAECFCQABAAAAoMIEgAAAAABQYQJAAAAAAKgwASAAAAAAVJgAEAAAAAAqTAAIAAAAABUmAAQAAACAChMAAgAAAECFCQABAAAAoMIEgAAAAABQYQJAAAAAAKgwASAAAAAAVJgAEAAAAAAqTAAIAAAAABU2MuwGGK5Wq3Uk5/xo/3POeV+32z3V/9xoNPYURXEyIhoRESmlh2dnZ48PoVUAAAAAPgAzALexVqt1pCzL3UtLSzfNzc2lsizvTCk93Ww290ZEtNvtnUVRPJVSOtw/nnM+1D8OAAAAwI1PALhNtdvtnTnnfRFxbGFh4UJExPz8/OmU0omiKO6LiFhZWbk/5/za4uLiiXXHD0fEgXq9Pjm87gEAAADYLEuAt6lOp3MuIv7oCqe1i6I42w8IIyJWV1dfSCn96dTU1GREXHifawEAAAC4AZgByO+smxXYqdfrk2VZ7o6IzsbzUko7l5aWdg2+QwAAAACulhmAREREvV6fXF5efiIiXltaWjox7H4AAAAAuDbSsBtg+Or1+uTY2Nj3Ukozo6OjX+x0Ouf6Y0VR/HT9rr9ruwJ/vyzLP5+fnz/dH29964kvpFz8+Eq1Vs7/NorJyX8sitG7rtfzcOM6/M5F046BTfvlaC3+dmJs4HVHJ2+PsY98fOB1ga3r4hsvR7m6OPC6f3FXN24ZXRl4XWBrOv32TfGDM3cMuw2GxAzAbe5S4V9ExMLCwoVWq3U2Itobr8k5nxsfH39z/diO8ZteXFq8+PlNlHwuLZbfTZPx6rV5AraSzyyvfCN59QCwSbvK/PKzE2M/GXTd8Zt3f2pk8rbNfKcBREREb+yjx3sXF94adN3Pfeytr+6orU4Nui6wNTVuXjzzzJk7nh12HwxejnhOALiN9cO/iIilpaV/NTc3t3FTj05ZlvfW6/XJ/kYgtVrtnrIs3z5//vx7zn3l21/5TUQ8f6Waja89FpF7/3979xci13XfAfx37u7sbBS15EFqzFAzfxQmtfNWEmKTghX85GBC+xTjPDSRkfsUQmlAKk0FES5YrSkYQykOdpIHi0DfTIOeTOUH1xHpa+MwtXZ2MSxxtKF9UOSdGe09fdBc+Wq9klcbeUcafT4g0N57597fPSuk1ZfzO+fdd5//3sdey/zpHHvuGyEABHapXZbvvPv8d/b934sv/XhjIYr8+f1+LnDv+sPWn/3nheOffX+/n/sn3/jGExHxmf1+LnBvav/B5v/M4mcrZu/IyZf8R/x+try8fCoiYjweH6/v9FtZXFx8PaV0ZHl5+amIa+2/OedTEfHyTtcDAAAAcPcxA/A+NQ3znkoptZvN5tPdbvf6uZzz2fF4fHwwGGy02+1vF0VxrtvtvhIRkVJ6ZjgcvjmzwgEAAAC4LQLA+9R0A4/OnboOAAAAgLuTFmAAAAAAmGMCQAAAAACYYwJAAAAAAJhjAkAAAAAAmGMCQAAAAACYYwJAAAAAAJhjAkAAAAAAmGMCQAAAAACYYwJAAAAAAJhjAkAAAAAAmGMCQAAAAACYYwJAAAAAAJhjAkAAAAAAmGMCQAAAAACYYwJAAAAAAJhjAkAAAAAAmGMCQAAAAACYYwJAAAAAAJhjAkAAAAAAmGMCQAAAAACYYwJAAAAAAJhjAkAAAAAAmGMCQAAAAACYYwJAAAAAAJhjAkAAAAAAmGMCQAAAAACYYwJAAAAAAJhjAkAAAAAAmGMCQAAAAACYYwJAAAAAAJhjAkAAAAAAmGMCQAAAAACYY4uzLoC7W7vdfqgoinMR0Y6ISCk9s7Ky8uqMywIAAABgl8wA5Kb6/f6hoih+lFI6PRwOU1mWD+ecT3U6ncdmXRsAAAAAuyMA5KauXr369Zzzxc3NzZ9GRKytrb2TUjodEc+2Wq0DMy4PAAAAgF0QAHIr/aIo3ltfX79SHdja2no7Ij5z8OBBASAAAADAPUAAyI5ardaBsiwfjIjB9nMppUOj0ejwDMoCAAAA4DbZBATYPyn/76xLAO4laYbPzr+d4cMBdifnrYjw9xWwO2mWP1sxa7777KjVah1YWlr6YVEUb9R3/Z3uCvzjsiy/tba29k51vPe3L34t5eJnH3ffi89/50//+Pj3/2WhufzIJ1U7AAAAAB8yA5Adra+vX+n1eu9FRH/7uZzzRrPZvFQ/9qnmp38+2vzgqx93385fn3lx4XeTf81p4e/vYLkAAAAA7CA3my/MugbuYr1e71in03mtvuPvTsdux5GTL+XPnXzp6J2rEgAAAICbOXLypWwTEG5qcXHx9ZTSkeXl5acirrX/5pxPRcTL9Z2BAQAAALh7CQC5qcFgsFGW5bdzzqe63W4uiuKXKaXTq6urb866NgAAAAB2xxqA3NJ0o4/OrOsAAAAAYG/MAAQAAACAOSYABAAAAIA5JgAEAAAAgDkmAAQAAACAOWYTEPZVjvIHW1GuzroOAAAAgPtBjvIHs64BAAAAAAAAAAAAAAAAAAAAAAAAAAAAAAAA7nlp1gUAALC/er3esZzzKzudyzmfHY/Hx9fX16/c6h7tdvuhoih+XJblt9bW1t75uOeVZfl4dd9+v39oPB4fWl1d/VVERKvVOrC8vPzwysrKf+39rfZeX63OL25ubv7y4979XrGXMWi1WgeWlpZ+mFI60mg0nhwMBhufdJ0AwCdvcdYFAACw/3Yb9N0JKysrr0bEqxER/X7/0GQy+feIOBERv6oCp4h4IyLuWAB4u6qQMiKOz6qGO20a+n35dj6ztLT0JeEfAMwfASAAABAREaurq29GxCOzrgMAuLMEgAAA7KjT6TyWUjpffZ1SemY6m+8GvV7v+YiIlZWVk9WxevvpwsLCo2VZPr6wsHByMpn8W0R8OaV0vtvt/nPO+YGU0tM556c7nc7jO81KrLWlPl07fKE+S236vHMR0Y6IyDl/t36P7een73NmZWXlZNUSnVKKZrP5lXa7/cT2ltnqfXLOr6WUXqzXcPXq1e/lnE/U77mbMazNOryw/Z6DwWCjemZEvBAR/1R7t6Orq6tvTu/9k7Isr9dbH/eIiHoL8A61nNnhe3Z9jLafr83erGYV/l1EfD3nfGIaHO76zwwAsL+KWRcAAMDdp9frHUspnWk0GoeHw2FqNBqHc87P9nq9Y9uvLcvyXM75qXa7/VB1bGFh4dGc87uTyWStOvbBBx/8ttFoPBkRF3LOR4fD4d+Mx+PjOeezKaVnVldXv7lTS/Ly8vKpoijeGw6HqaolIuLq1avfi7gWTBVF8aOU0unq/DQs/Gz9fM75L6t75JyP5pxPdDqdx1ZWVl5NKT2Tcz47Go0evsV6eZ+NiC+PRqNPj0ajT+ecL04mk0tlWZ4bDoepLMuHc85PdTqdx3Y7himlp4uiuDwcDlN1z+q9qmfmnP98NBo9PBwOU0rpmZTSmX6/f2hpaem/I+LXCwsLj95q3COuhXsppX8sy/LhWi1Hq1o7nc5jRVGcK8vyiaqWsiwfrMLdVqt1YDwev5hSOl+r9QtRazG+nT8zAMD+EgACANyHUkpPN5vN33W73Vz79fN+v3+o1WodKMvy8ZzziWqG3WAw2Mg5n8g5P9vv9w/V7zUej3+Rc36rCqKqzxdF8cadWGNwZWXlZH0m2mAw2KjPMrt69erXc84XNzc3f1qvtX79cDh8pJqlFhExDc8u7KGcl9fX16+sr69fKYrijelair+IiGg2m5ci4tcRH47BLsbwwuLi4usREdU9y7J8sNVqHdj+zIiIra2ttyMijUajw9U4lGX5eKvVOnCrcU8p/VFMA9GdxqQoiidSSqer8HN9ff1Kzvm5nPNX2+32Q9XagIuLiy/Uz0fE2m2+LwAwA1qAAQDuQ7faBGTa6nkkIs53u93tpz8Smq2vr1/p9XpvTIOonzYajXZK6XNbW1vP3cma67sX55wjpXSmKrkoivfq75Jz/k1K6f365+utxJPJZC8lvJ9z/s1uLjx48OCB3Yxhzvni5cuXbxWS3vKZZVmeSyn9pNFoVG27O477eDz+xdLS0ltFUfyy2+3e0N47De8eTCmd6Ha723eHXouIKIriSFmWN9TabDYvTSaTX9/O+wIAsyEABADgBqPR6HBRFA9Ua83tdE273T5c/3pra+vtoij+qtFotKczAf/jFq20t6XX6z0/nUl2odFoHB4MBhtVa+pu1NeumwZfqXbsE7GbMez1er/3c6pgr5p9WZblR9p/I66FtBHxzYj45rTt93y32z2RUjqzuLj4wmQyOXKr9fp6vd6jOx2v7OZ9AYDZ0QIMAMANqlbWoiiO7PYzk8lkLef8blEUf5FzfrYsy3N3opZ+v39oul7f0eFw+MhgMNioZqzVLhtsb5utt7yOx+MvREQ0Go3D1ay30Wh0OCIeuBM17mQvY7gXtbbhL+627Xp1dfXN2jqIR7e2tj6Vc74YEf2bfaYsy4sppSMHDx68Psb1Mdyv9wUA9kYACADADaZry72ccz5V39ij1+s93+l0Xtu2Pl1EXJ9h9nJE/EPE9TX2PuLy5ctXcs4Xq6BoGmC9F7cInyKutaBWv19eXj5V3xF4cXHx9ZTSkeXl5aciroWGtfbgygPTwOr6piBR2xF4p4Dr97GXMdyrra2tt1NKX0spfWW6RuBHdDqdx7rd7mq9lum6f+cvXrz4XkS8XG2KUqv1WLUu5HSdx+sblLRarQMppe/HdAz3830BgNsnAAQA4COmO+Oenq4Zl7vdbi7L8sGbrRsY8eHGGiml89VGENvVNs94pQqGprsIn6jCpvr1g8FgoyzLb+ecT1V1RERMd+092u/3Dw0Gg41Go/FkzvnZbrebJ5PJpZzz2Yh4P+LajLf6u0wmk0sppdM557NFUTxRqz0mk8mlegi232O4F9PZl2/lnN/aqf034qNjUNWyubl5ujqfcz6aUjpfnc85P9toNJ4cDAYb6+vrV5aWlr6bcz7a7XZzs9n8XUrpho1U9ut9AQAAAOC+0mq1DnQ6ndd6vd6x/Xxuv98/1Ol0flaf8QcA3J3MAAQAgHvYdAfgzywuLr7+ST1jpxbiaTvw/91s1iEAcPdIsy4AAADYm9oOyZ/47ru9Xu9YzvmV6uuc81ntvQAAAAAAAAAAAAAAAAAAAAAAAAAAAAAAAAAAAAAAAAAAAAAAANyl/h+dDj+ayYl8bAAAAABJRU5ErkJggg==)"
            ],
            "metadata": {
                "azdata_cell_guid": "ff5fc35b-bc41-46e7-b262-4de343d4d661"
            },
            "attachments": {}
        },
        {
            "cell_type": "code",
            "source": [
                "--Üres értékek a Leírás táblában--\r\n",
                "SELECT IIF(LEIRAS IS NULL,'Leírás nélküli','Leírásos') AS 'Kategória', \r\n",
                "        Count(*) AS 'Darabszám'\r\n",
                "FROM TERMEK\r\n",
                "GROUP BY IIF(LEIRAS IS NULL,'Leírás nélküli','Leírásos')"
            ],
            "metadata": {
                "azdata_cell_guid": "fab6bbaf-f8b8-4f8a-9b00-8adb688a5bb1",
                "language": "sql"
            },
            "outputs": [
                {
                    "output_type": "display_data",
                    "data": {
                        "text/html": "(2 rows affected)"
                    },
                    "metadata": {}
                },
                {
                    "output_type": "display_data",
                    "data": {
                        "text/html": "Total execution time: 00:00:00.020"
                    },
                    "metadata": {}
                },
                {
                    "output_type": "execute_result",
                    "execution_count": 5,
                    "data": {
                        "application/vnd.dataresource+json": {
                            "schema": {
                                "fields": [
                                    {
                                        "name": "Kategória"
                                    },
                                    {
                                        "name": "Darabszám"
                                    }
                                ]
                            },
                            "data": [
                                {
                                    "Kategória": "Leírás nélküli",
                                    "Darabszám": "527"
                                },
                                {
                                    "Kategória": "Leírásos",
                                    "Darabszám": "24"
                                }
                            ]
                        },
                        "text/html": "<table><tr><th>Kategória</th><th>Darabszám</th></tr><tr><td>Leírás nélküli</td><td>527</td></tr><tr><td>Leírásos</td><td>24</td></tr></table>"
                    },
                    "metadata": {}
                }
            ],
            "execution_count": 5
        },
        {
            "cell_type": "markdown",
            "source": [
                "![](data:image/png;base64,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)"
            ],
            "metadata": {
                "azdata_cell_guid": "8eeee885-eb9d-4469-b2ca-b35f6406e33a"
            },
            "attachments": {}
        },
        {
            "cell_type": "code",
            "source": [
                "--Készletmennyiség elemzése--\r\n",
                "DECLARE \r\n",
                "@min int = 300, --Minimum készlet mennyiség--\r\n",
                "@max int = 8000; --Maximum készlet mennyiség--\r\n",
                "\r\n",
                "SELECT SUM(CASE WHEN KESZLET < @min THEN 1 ELSE 0 end) AS 'Minimum alatt',\r\n",
                "    SUM(CASE WHEN KESZLET BETWEEN @min and @max THEN 1 ELSE 0 end) AS 'Megfelelő',\r\n",
                "    SUM(CASE WHEN KESZLET > @max THEN 1 ELSE 0 end) AS 'Maximum felett'\r\n",
                "FROM Termek\r\n",
                "\r\n",
                "--Variancia a KESZLET táblában--\r\n",
                "SELECT VAR(KESZLET) AS 'Variancia'\r\n",
                "FROM Termek\r\n",
                "\r\n",
                ""
            ],
            "metadata": {
                "azdata_cell_guid": "4f9dab2b-3137-4bf1-8a4c-1ad53ae788fb",
                "language": "sql"
            },
            "outputs": [
                {
                    "output_type": "display_data",
                    "data": {
                        "text/html": "(1 row affected)"
                    },
                    "metadata": {}
                },
                {
                    "output_type": "display_data",
                    "data": {
                        "text/html": "(1 row affected)"
                    },
                    "metadata": {}
                },
                {
                    "output_type": "display_data",
                    "data": {
                        "text/html": "Total execution time: 00:00:00.276"
                    },
                    "metadata": {}
                },
                {
                    "output_type": "execute_result",
                    "execution_count": 2,
                    "data": {
                        "application/vnd.dataresource+json": {
                            "schema": {
                                "fields": [
                                    {
                                        "name": "Minimum alatt"
                                    },
                                    {
                                        "name": "Megfelelő"
                                    },
                                    {
                                        "name": "Maximum felett"
                                    }
                                ]
                            },
                            "data": [
                                {
                                    "Minimum alatt": "210",
                                    "Megfelelő": "324",
                                    "Maximum felett": "17"
                                }
                            ]
                        },
                        "text/html": "<table><tr><th>Minimum alatt</th><th>Megfelelő</th><th>Maximum felett</th></tr><tr><td>210</td><td>324</td><td>17</td></tr></table>"
                    },
                    "metadata": {}
                },
                {
                    "output_type": "execute_result",
                    "execution_count": 2,
                    "data": {
                        "application/vnd.dataresource+json": {
                            "schema": {
                                "fields": [
                                    {
                                        "name": "Variancia"
                                    }
                                ]
                            },
                            "data": [
                                {
                                    "Variancia": "21200385,34719023"
                                }
                            ]
                        },
                        "text/html": "<table><tr><th>Variancia</th></tr><tr><td>21200385,34719023</td></tr></table>"
                    },
                    "metadata": {}
                }
            ],
            "execution_count": 2
        },
        {
            "cell_type": "markdown",
            "source": [
                "![](data:image/png;base64,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)"
            ],
            "metadata": {
                "azdata_cell_guid": "c2dd6e3d-8483-4e7f-a1ab-5756963e59d9"
            },
            "attachments": {}
        },
        {
            "cell_type": "code",
            "source": [
                "--TOP 10 leghosszabb szöveg a MEGNEVEZES táblában--\r\n",
                "\r\n",
                "SELECT TOP 10 MEGNEVEZES AS 'Megnevezés', \r\n",
                "        LEN(MEGNEVEZES) AS 'Szöveg hossza'\r\n",
                "FROM TERMEK\r\n",
                "GROUP BY MEGNEVEZES\r\n",
                "ORDER BY LEN(MEGNEVEZES) DESC\r\n",
                "\r\n",
                "--Egyedi értékek a MEGNEVEZES táblában--\r\n",
                "SELECT COUNT(DISTINCT MEGNEVEZES) AS 'Egyedi érték'\r\n",
                "FROM TERMEK\r\n",
                "WHERE MEGNEVEZES IS NOT NULL\r\n",
                "\r\n",
                "--Sorok hosszának eloszlása--\r\n",
                "SELECT len(MEGNEVEZES) AS 'Sorok hossza',count(*) as 'Sorok száma'\r\n",
                "FROM Termek\r\n",
                "GROUP BY len(MEGNEVEZES)\r\n",
                "ORDER BY 1\r\n",
                ""
            ],
            "metadata": {
                "azdata_cell_guid": "6ab821e2-15c0-4235-9036-d698cd47da73",
                "language": "sql"
            },
            "outputs": [
                {
                    "output_type": "display_data",
                    "data": {
                        "text/html": "(10 rows affected)"
                    },
                    "metadata": {}
                },
                {
                    "output_type": "display_data",
                    "data": {
                        "text/html": "(1 row affected)"
                    },
                    "metadata": {}
                },
                {
                    "output_type": "display_data",
                    "data": {
                        "text/html": "(33 rows affected)"
                    },
                    "metadata": {}
                },
                {
                    "output_type": "display_data",
                    "data": {
                        "text/html": "Total execution time: 00:00:00.130"
                    },
                    "metadata": {}
                },
                {
                    "output_type": "execute_result",
                    "execution_count": 4,
                    "data": {
                        "application/vnd.dataresource+json": {
                            "schema": {
                                "fields": [
                                    {
                                        "name": "Megnevezés"
                                    },
                                    {
                                        "name": "Szöveg hossza"
                                    }
                                ]
                            },
                            "data": [
                                {
                                    "Megnevezés": "A föld amelyen élünk - Távoli földrészek",
                                    "Szöveg hossza": "40"
                                },
                                {
                                    "Megnevezés": "Összefoglaló feladatgyüjtemény számtech.",
                                    "Szöveg hossza": "40"
                                },
                                {
                                    "Megnevezés": "A föld amelyen élünk - Hazánk földrajza",
                                    "Szöveg hossza": "39"
                                },
                                {
                                    "Megnevezés": "A föld amelyen élünk - Európa földrajza",
                                    "Szöveg hossza": "39"
                                },
                                {
                                    "Megnevezés": "G. toll betét UNI lachnok Fine SA-7C",
                                    "Szöveg hossza": "36"
                                },
                                {
                                    "Megnevezés": "Ragasztószalag 19 mm-es SCOTCH+ tépő",
                                    "Szöveg hossza": "36"
                                },
                                {
                                    "Megnevezés": "A föld amelyen élünk - munkafüzet",
                                    "Szöveg hossza": "33"
                                },
                                {
                                    "Megnevezés": "Díszdoboz tollnak 2 db-os keskeny",
                                    "Szöveg hossza": "33"
                                },
                                {
                                    "Megnevezés": "Golyóstoll + ceruza Twister 2in1",
                                    "Szöveg hossza": "32"
                                },
                                {
                                    "Megnevezés": "Ajándék cs. tasak italos, fólia",
                                    "Szöveg hossza": "31"
                                }
                            ]
                        },
                        "text/html": "<table><tr><th>Megnevezés</th><th>Szöveg hossza</th></tr><tr><td>A föld amelyen élünk - Távoli földrészek</td><td>40</td></tr><tr><td>Összefoglaló feladatgyüjtemény számtech.</td><td>40</td></tr><tr><td>A föld amelyen élünk - Hazánk földrajza</td><td>39</td></tr><tr><td>A föld amelyen élünk - Európa földrajza</td><td>39</td></tr><tr><td>G. toll betét UNI lachnok Fine SA-7C</td><td>36</td></tr><tr><td>Ragasztószalag 19 mm-es SCOTCH+ tépő</td><td>36</td></tr><tr><td>A föld amelyen élünk - munkafüzet</td><td>33</td></tr><tr><td>Díszdoboz tollnak 2 db-os keskeny</td><td>33</td></tr><tr><td>Golyóstoll + ceruza Twister 2in1</td><td>32</td></tr><tr><td>Ajándék cs. tasak italos, fólia</td><td>31</td></tr></table>"
                    },
                    "metadata": {}
                },
                {
                    "output_type": "execute_result",
                    "execution_count": 4,
                    "data": {
                        "application/vnd.dataresource+json": {
                            "schema": {
                                "fields": [
                                    {
                                        "name": "Egyedi érték"
                                    }
                                ]
                            },
                            "data": [
                                {
                                    "Egyedi érték": "543"
                                }
                            ]
                        },
                        "text/html": "<table><tr><th>Egyedi érték</th></tr><tr><td>543</td></tr></table>"
                    },
                    "metadata": {}
                },
                {
                    "output_type": "execute_result",
                    "execution_count": 4,
                    "data": {
                        "application/vnd.dataresource+json": {
                            "schema": {
                                "fields": [
                                    {
                                        "name": "Sorok hossza"
                                    },
                                    {
                                        "name": "Sorok száma"
                                    }
                                ]
                            },
                            "data": [
                                {
                                    "Sorok hossza": "3",
                                    "Sorok száma": "2"
                                },
                                {
                                    "Sorok hossza": "5",
                                    "Sorok száma": "2"
                                },
                                {
                                    "Sorok hossza": "6",
                                    "Sorok száma": "1"
                                },
                                {
                                    "Sorok hossza": "7",
                                    "Sorok száma": "2"
                                },
                                {
                                    "Sorok hossza": "8",
                                    "Sorok száma": "5"
                                },
                                {
                                    "Sorok hossza": "9",
                                    "Sorok száma": "8"
                                },
                                {
                                    "Sorok hossza": "10",
                                    "Sorok száma": "15"
                                },
                                {
                                    "Sorok hossza": "11",
                                    "Sorok száma": "18"
                                },
                                {
                                    "Sorok hossza": "12",
                                    "Sorok száma": "23"
                                },
                                {
                                    "Sorok hossza": "13",
                                    "Sorok száma": "30"
                                },
                                {
                                    "Sorok hossza": "14",
                                    "Sorok száma": "35"
                                },
                                {
                                    "Sorok hossza": "15",
                                    "Sorok száma": "32"
                                },
                                {
                                    "Sorok hossza": "16",
                                    "Sorok száma": "42"
                                },
                                {
                                    "Sorok hossza": "17",
                                    "Sorok száma": "32"
                                },
                                {
                                    "Sorok hossza": "18",
                                    "Sorok száma": "38"
                                },
                                {
                                    "Sorok hossza": "19",
                                    "Sorok száma": "37"
                                },
                                {
                                    "Sorok hossza": "20",
                                    "Sorok száma": "35"
                                },
                                {
                                    "Sorok hossza": "21",
                                    "Sorok száma": "37"
                                },
                                {
                                    "Sorok hossza": "22",
                                    "Sorok száma": "26"
                                },
                                {
                                    "Sorok hossza": "23",
                                    "Sorok száma": "20"
                                },
                                {
                                    "Sorok hossza": "24",
                                    "Sorok száma": "29"
                                },
                                {
                                    "Sorok hossza": "25",
                                    "Sorok száma": "16"
                                },
                                {
                                    "Sorok hossza": "26",
                                    "Sorok száma": "12"
                                },
                                {
                                    "Sorok hossza": "27",
                                    "Sorok száma": "10"
                                },
                                {
                                    "Sorok hossza": "28",
                                    "Sorok száma": "8"
                                },
                                {
                                    "Sorok hossza": "29",
                                    "Sorok száma": "11"
                                },
                                {
                                    "Sorok hossza": "30",
                                    "Sorok száma": "11"
                                },
                                {
                                    "Sorok hossza": "31",
                                    "Sorok száma": "5"
                                },
                                {
                                    "Sorok hossza": "32",
                                    "Sorok száma": "1"
                                },
                                {
                                    "Sorok hossza": "33",
                                    "Sorok száma": "2"
                                },
                                {
                                    "Sorok hossza": "36",
                                    "Sorok száma": "2"
                                },
                                {
                                    "Sorok hossza": "39",
                                    "Sorok száma": "2"
                                },
                                {
                                    "Sorok hossza": "40",
                                    "Sorok száma": "2"
                                }
                            ]
                        },
                        "text/html": "<table><tr><th>Sorok hossza</th><th>Sorok száma</th></tr><tr><td>3</td><td>2</td></tr><tr><td>5</td><td>2</td></tr><tr><td>6</td><td>1</td></tr><tr><td>7</td><td>2</td></tr><tr><td>8</td><td>5</td></tr><tr><td>9</td><td>8</td></tr><tr><td>10</td><td>15</td></tr><tr><td>11</td><td>18</td></tr><tr><td>12</td><td>23</td></tr><tr><td>13</td><td>30</td></tr><tr><td>14</td><td>35</td></tr><tr><td>15</td><td>32</td></tr><tr><td>16</td><td>42</td></tr><tr><td>17</td><td>32</td></tr><tr><td>18</td><td>38</td></tr><tr><td>19</td><td>37</td></tr><tr><td>20</td><td>35</td></tr><tr><td>21</td><td>37</td></tr><tr><td>22</td><td>26</td></tr><tr><td>23</td><td>20</td></tr><tr><td>24</td><td>29</td></tr><tr><td>25</td><td>16</td></tr><tr><td>26</td><td>12</td></tr><tr><td>27</td><td>10</td></tr><tr><td>28</td><td>8</td></tr><tr><td>29</td><td>11</td></tr><tr><td>30</td><td>11</td></tr><tr><td>31</td><td>5</td></tr><tr><td>32</td><td>1</td></tr><tr><td>33</td><td>2</td></tr><tr><td>36</td><td>2</td></tr><tr><td>39</td><td>2</td></tr><tr><td>40</td><td>2</td></tr></table>"
                    },
                    "metadata": {}
                }
            ],
            "execution_count": 4
        }
    ]
}